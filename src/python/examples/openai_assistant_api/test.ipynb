{
 "cells": [
  {
   "cell_type": "code",
   "execution_count": 1,
   "metadata": {},
   "outputs": [],
   "source": [
    "from openai import OpenAI\n",
    "import json\n",
    "from dotenv import load_dotenv\n",
    "\n",
    "load_dotenv()\n",
    "\n",
    "def show_json(obj):\n",
    "    display(json.loads(obj.model_dump_json()))\n",
    "\n",
    "client = OpenAI()"
   ]
  },
  {
   "cell_type": "code",
   "execution_count": 2,
   "metadata": {},
   "outputs": [
    {
     "data": {
      "text/plain": [
       "{'id': 'asst_LqOdwmpQvZcZawke8ku3brDJ',\n",
       " 'created_at': 1699950334,\n",
       " 'description': None,\n",
       " 'file_ids': [],\n",
       " 'instructions': 'You are a GIS assistant, and will perform and answer questions about geospatial analysis.',\n",
       " 'metadata': {},\n",
       " 'model': 'gpt-4-1106-preview',\n",
       " 'name': 'GIS Assistant',\n",
       " 'object': 'assistant',\n",
       " 'tools': []}"
      ]
     },
     "metadata": {},
     "output_type": "display_data"
    }
   ],
   "source": [
    "assistant = client.beta.assistants.create(\n",
    "    name='GIS Assistant',\n",
    "    instructions='You are a GIS assistant, and will perform and answer questions about geospatial analysis.',\n",
    "    model='gpt-4-1106-preview',\n",
    ")\n",
    "\n",
    "show_json(assistant)"
   ]
  },
  {
   "cell_type": "code",
   "execution_count": 3,
   "metadata": {},
   "outputs": [
    {
     "data": {
      "text/plain": [
       "{'id': 'thread_twRPzA5QcmClxKWvRmLzDCtH',\n",
       " 'created_at': 1699950334,\n",
       " 'metadata': {},\n",
       " 'object': 'thread'}"
      ]
     },
     "metadata": {},
     "output_type": "display_data"
    }
   ],
   "source": [
    "thread = client.beta.threads.create()\n",
    "show_json(thread)"
   ]
  },
  {
   "cell_type": "code",
   "execution_count": 4,
   "metadata": {},
   "outputs": [
    {
     "data": {
      "text/plain": [
       "{'id': 'msg_c6fDZStp2jzYpOMlz55QBaYo',\n",
       " 'assistant_id': None,\n",
       " 'content': [{'text': {'annotations': [],\n",
       "    'value': 'What is the rate of deforestation in Norway?'},\n",
       "   'type': 'text'}],\n",
       " 'created_at': 1699950334,\n",
       " 'file_ids': [],\n",
       " 'metadata': {},\n",
       " 'object': 'thread.message',\n",
       " 'role': 'user',\n",
       " 'run_id': None,\n",
       " 'thread_id': 'thread_twRPzA5QcmClxKWvRmLzDCtH'}"
      ]
     },
     "metadata": {},
     "output_type": "display_data"
    }
   ],
   "source": [
    "message = client.beta.threads.messages.create(\n",
    "    thread_id=thread.id,\n",
    "    role='user',\n",
    "    content='What is the rate of deforestation in Norway?'\n",
    ")\n",
    "\n",
    "show_json(message)"
   ]
  },
  {
   "cell_type": "markdown",
   "metadata": {},
   "source": [
    "Respond to user question"
   ]
  },
  {
   "cell_type": "code",
   "execution_count": 5,
   "metadata": {},
   "outputs": [
    {
     "data": {
      "text/plain": [
       "{'id': 'run_rUwnYIsz50YqUPuNTyF3vVno',\n",
       " 'assistant_id': 'asst_LqOdwmpQvZcZawke8ku3brDJ',\n",
       " 'cancelled_at': None,\n",
       " 'completed_at': None,\n",
       " 'created_at': 1699950335,\n",
       " 'expires_at': 1699950935,\n",
       " 'failed_at': None,\n",
       " 'file_ids': [],\n",
       " 'instructions': 'You are a GIS assistant, and will perform and answer questions about geospatial analysis.',\n",
       " 'last_error': None,\n",
       " 'metadata': {},\n",
       " 'model': 'gpt-4-1106-preview',\n",
       " 'object': 'thread.run',\n",
       " 'required_action': None,\n",
       " 'started_at': None,\n",
       " 'status': 'queued',\n",
       " 'thread_id': 'thread_twRPzA5QcmClxKWvRmLzDCtH',\n",
       " 'tools': []}"
      ]
     },
     "metadata": {},
     "output_type": "display_data"
    }
   ],
   "source": [
    "run = client.beta.threads.runs.create(\n",
    "    thread_id=thread.id,\n",
    "    assistant_id=assistant.id,\n",
    ")\n",
    "\n",
    "show_json(run)"
   ]
  },
  {
   "cell_type": "code",
   "execution_count": 6,
   "metadata": {},
   "outputs": [],
   "source": [
    "import time\n",
    "\n",
    "def wait_on_run(run, thread):\n",
    "    while run.status == \"queued\" or run.status == \"in_progress\":\n",
    "        run = client.beta.threads.runs.retrieve(\n",
    "            thread_id=thread.id,\n",
    "            run_id=run.id,\n",
    "        )\n",
    "        time.sleep(0.5)\n",
    "    return run"
   ]
  },
  {
   "cell_type": "code",
   "execution_count": 7,
   "metadata": {},
   "outputs": [
    {
     "data": {
      "text/plain": [
       "{'id': 'run_rUwnYIsz50YqUPuNTyF3vVno',\n",
       " 'assistant_id': 'asst_LqOdwmpQvZcZawke8ku3brDJ',\n",
       " 'cancelled_at': None,\n",
       " 'completed_at': 1699950343,\n",
       " 'created_at': 1699950335,\n",
       " 'expires_at': None,\n",
       " 'failed_at': None,\n",
       " 'file_ids': [],\n",
       " 'instructions': 'You are a GIS assistant, and will perform and answer questions about geospatial analysis.',\n",
       " 'last_error': None,\n",
       " 'metadata': {},\n",
       " 'model': 'gpt-4-1106-preview',\n",
       " 'object': 'thread.run',\n",
       " 'required_action': None,\n",
       " 'started_at': 1699950335,\n",
       " 'status': 'completed',\n",
       " 'thread_id': 'thread_twRPzA5QcmClxKWvRmLzDCtH',\n",
       " 'tools': []}"
      ]
     },
     "metadata": {},
     "output_type": "display_data"
    }
   ],
   "source": [
    "run = wait_on_run(run, thread)\n",
    "show_json(run)"
   ]
  },
  {
   "cell_type": "code",
   "execution_count": 8,
   "metadata": {},
   "outputs": [
    {
     "data": {
      "text/plain": [
       "{'data': [{'id': 'msg_OVagaakhwbwcgvv3Y0QnZHUx',\n",
       "   'assistant_id': 'asst_LqOdwmpQvZcZawke8ku3brDJ',\n",
       "   'content': [{'text': {'annotations': [],\n",
       "      'value': 'As of my last update in April 2023, I do not have real-time data or access to databases that can provide the current rate of deforestation in Norway. However, Norway has traditionally had very low rates of deforestation due to stringent environmental policies, a strong economy that does not rely heavily on logging, and forest management practices that are designed to be sustainable.\\n\\nIn recent years, the country has even been known to experience a net increase in forest area thanks to these effective management practices and reforestation efforts. Norway has also taken a strong stance globally by funding anti-deforestation projects in other countries, as part of its commitment to environmental conservation.\\n\\nFor the most current deforestation rates in Norway, you would typically reference data from sources such as the Norwegian Environment Agency, the Food and Agriculture Organization of the United Nations (FAO), or studies conducted by research institutions that use remote sensing and GIS to monitor changes in forest cover.\\n\\nTo obtain the most recent data on deforestation rates in Norway, you may want to query official Norwegian sources or international environmental monitoring agencies, as they would provide up-to-date figures and analyses.'},\n",
       "     'type': 'text'}],\n",
       "   'created_at': 1699950335,\n",
       "   'file_ids': [],\n",
       "   'metadata': {},\n",
       "   'object': 'thread.message',\n",
       "   'role': 'assistant',\n",
       "   'run_id': 'run_rUwnYIsz50YqUPuNTyF3vVno',\n",
       "   'thread_id': 'thread_twRPzA5QcmClxKWvRmLzDCtH'},\n",
       "  {'id': 'msg_c6fDZStp2jzYpOMlz55QBaYo',\n",
       "   'assistant_id': None,\n",
       "   'content': [{'text': {'annotations': [],\n",
       "      'value': 'What is the rate of deforestation in Norway?'},\n",
       "     'type': 'text'}],\n",
       "   'created_at': 1699950334,\n",
       "   'file_ids': [],\n",
       "   'metadata': {},\n",
       "   'object': 'thread.message',\n",
       "   'role': 'user',\n",
       "   'run_id': None,\n",
       "   'thread_id': 'thread_twRPzA5QcmClxKWvRmLzDCtH'}],\n",
       " 'object': 'list',\n",
       " 'first_id': 'msg_OVagaakhwbwcgvv3Y0QnZHUx',\n",
       " 'last_id': 'msg_c6fDZStp2jzYpOMlz55QBaYo',\n",
       " 'has_more': False}"
      ]
     },
     "metadata": {},
     "output_type": "display_data"
    }
   ],
   "source": [
    "messages = client.beta.threads.messages.list(thread_id=thread.id)\n",
    "show_json(messages)"
   ]
  },
  {
   "cell_type": "code",
   "execution_count": 9,
   "metadata": {},
   "outputs": [
    {
     "data": {
      "text/plain": [
       "{'data': [{'id': 'msg_6zGaVuZbOE5hWXIO4JOnAy71',\n",
       "   'assistant_id': 'asst_LqOdwmpQvZcZawke8ku3brDJ',\n",
       "   'content': [{'text': {'annotations': [],\n",
       "      'value': 'Similar to Norway, Sweden has a reputation for sustainably managing its forest resources. Sweden is one of Europe\\'s largest producers of wood, and forestry is an important part of its economy. Despite this, the country has strict environmental laws and sustainable forestry practices that balance economic interests with conservation.\\n\\nSweden\\'s approach to forestry includes continuous tree planting and a legal requirement for replanting after felling, which ensures that the rate of deforestation is kept low and that there is a net increase in forest growth over time rather than a decrease. The use of \"clear-cutting\" is balanced by these reforestation practices, and the overall growth of forests in Sweden has historically been positive.\\n\\nJust like with Norway, for the most recent and accurate data on Sweden\\'s deforestation or afforestation rates, you would look at information provided by the Swedish Forest Agency, the FAO, the European Environment Agency, or research papers that have analyzed satellite imagery to track changes in Sweden\\'s forest cover.\\n\\nThe rate of deforestation in a country like Sweden would need to be closely monitored to detect any changes over time, so for the latest data, refer to the official governmental or international environmental data sources.'},\n",
       "     'type': 'text'}],\n",
       "   'created_at': 1699950429,\n",
       "   'file_ids': [],\n",
       "   'metadata': {},\n",
       "   'object': 'thread.message',\n",
       "   'role': 'assistant',\n",
       "   'run_id': 'run_9EKqI9F0os5NITFSQk9QNoKI',\n",
       "   'thread_id': 'thread_twRPzA5QcmClxKWvRmLzDCtH'}],\n",
       " 'object': 'list',\n",
       " 'first_id': 'msg_6zGaVuZbOE5hWXIO4JOnAy71',\n",
       " 'last_id': 'msg_6zGaVuZbOE5hWXIO4JOnAy71',\n",
       " 'has_more': False}"
      ]
     },
     "metadata": {},
     "output_type": "display_data"
    }
   ],
   "source": [
    "# Create a message to append to our thread\n",
    "message = client.beta.threads.messages.create(\n",
    "    thread_id=thread.id, role='user', content='How about Sweden?'\n",
    ")\n",
    "\n",
    "# Execute our run\n",
    "run = client.beta.threads.runs.create(\n",
    "    thread_id=thread.id,\n",
    "    assistant_id=assistant.id,\n",
    ")\n",
    "\n",
    "# Wait for completion\n",
    "wait_on_run(run, thread)\n",
    "\n",
    "# Retrieve all the messages added after our last user message\n",
    "messages = client.beta.threads.messages.list(\n",
    "    thread_id=thread.id, order=\"asc\", after=message.id\n",
    ")\n",
    "show_json(messages)"
   ]
  }
 ],
 "metadata": {
  "kernelspec": {
   "display_name": "venv",
   "language": "python",
   "name": "python3"
  },
  "language_info": {
   "codemirror_mode": {
    "name": "ipython",
    "version": 3
   },
   "file_extension": ".py",
   "mimetype": "text/x-python",
   "name": "python",
   "nbconvert_exporter": "python",
   "pygments_lexer": "ipython3",
   "version": "3.11.3"
  }
 },
 "nbformat": 4,
 "nbformat_minor": 2
}
